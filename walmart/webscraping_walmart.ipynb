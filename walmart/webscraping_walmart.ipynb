{
 "cells": [
  {
   "cell_type": "code",
   "execution_count": 1,
   "metadata": {},
   "outputs": [],
   "source": [
    "import requests\n",
    "from bs4 import BeautifulSoup\n",
    "import pandas as pd"
   ]
  },
  {
   "cell_type": "code",
   "execution_count": 2,
   "metadata": {},
   "outputs": [],
   "source": [
    "headers = {'User-Agent': 'Mozilla/5.0 (Windows NT 10.0; Win64; x64) AppleWebKit/537.36 (KHTML, like Gecko) Chrome/90.0.4430.72 Safari/537.36'}\n",
    "\n",
    "productlist = []"
   ]
  },
  {
   "cell_type": "code",
   "execution_count": 3,
   "metadata": {},
   "outputs": [],
   "source": [
    "def getProduct(page):\n",
    "    url = f'https://www.walmart.ca/search?q=cellphone&p={page}'\n",
    "    r = requests.get(url, headers=headers)\n",
    "    soup = BeautifulSoup(r.text, 'html.parser')\n",
    "    products = soup.find_all('div', {'class': 'css-ybbenb epettpn7'})\n",
    "    for item in products:\n",
    "        product = {\n",
    "        'description': item.find('div', {'class': 'css-8ag755 e175iya63'}).getText(strip=True),\n",
    "        #'price': item.find('div', {'class': 'price'}).getText(strip=True),\n",
    "        }\n",
    "        productlist.append(product)\n",
    "    return"
   ]
  },
  {
   "cell_type": "code",
   "execution_count": 4,
   "metadata": {},
   "outputs": [],
   "source": [
    "for x in range(1,8):\n",
    "    getProduct(x)"
   ]
  },
  {
   "cell_type": "code",
   "execution_count": 5,
   "metadata": {},
   "outputs": [
    {
     "name": "stdout",
     "output_type": "stream",
     "text": [
      "                                           description\n",
      "0     Samsung Galaxy A11 32GB - Crush Black - Unlocked\n",
      "1    Samsung Galaxy A10S 32GB - Dual SIM - Blue - U...\n",
      "2    New Arrival Nowa7i 6.5 inch Mobile Phone Green...\n",
      "3    P43PRO 5.8 Inch Full Screen 1G+4G Mobile Phone...\n",
      "4    3G Smartphone 5.0 Inch Full Screen Android Hd ...\n",
      "..                                                 ...\n",
      "100  Youkk Portable Folding Mobile Smart Phone Home...\n",
      "101  freestylehome Portable Folding Mobile Smart Ph...\n",
      "102  Hanging Neck Cell Phone Holder Free Rotating M...\n",
      "103  Hanging Neck Cell Phone Holder Free Rotating M...\n",
      "104  Hanging Neck Cell Phone Holder Free Rotating M...\n",
      "\n",
      "[105 rows x 1 columns]\n"
     ]
    }
   ],
   "source": [
    "df = pd.DataFrame(productlist)\n",
    "print(df)"
   ]
  },
  {
   "cell_type": "code",
   "execution_count": 6,
   "metadata": {},
   "outputs": [],
   "source": [
    "df.to_csv('walmart.csv', index=False, header=False)"
   ]
  }
 ],
 "metadata": {
  "kernelspec": {
   "display_name": "Python 3",
   "language": "python",
   "name": "python3"
  },
  "language_info": {
   "codemirror_mode": {
    "name": "ipython",
    "version": 3
   },
   "file_extension": ".py",
   "mimetype": "text/x-python",
   "name": "python",
   "nbconvert_exporter": "python",
   "pygments_lexer": "ipython3",
   "version": "3.8.5"
  }
 },
 "nbformat": 4,
 "nbformat_minor": 4
}
