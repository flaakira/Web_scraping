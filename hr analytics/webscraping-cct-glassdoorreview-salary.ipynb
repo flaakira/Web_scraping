{
 "cells": [
  {
   "cell_type": "code",
   "execution_count": 2,
   "id": "9c972426",
   "metadata": {},
   "outputs": [
    {
     "name": "stdout",
     "output_type": "stream",
     "text": [
      "Getting page, 0\n",
      "Getting page, 1\n",
      "Getting page, 2\n",
      "Getting page, 3\n",
      "Getting page, 4\n",
      "Getting page, 5\n",
      "Getting page, 6\n",
      "Getting page, 7\n",
      "Getting page, 8\n",
      "Getting page, 9\n",
      "                          Title                      Salary\n",
      "0              Business Analyst                        None\n",
      "1            Software Developer  [[$97K - $108K], /,  , yr]\n",
      "2                       Analyst   [[$38K - $48K], /,  , yr]\n",
      "3                       Manager   [[$60K - $87K], /,  , yr]\n",
      "4  Senior Systems Administrator   [[$86K - $91K], /,  , yr]\n"
     ]
    }
   ],
   "source": [
    "import requests\n",
    "from bs4 import BeautifulSoup\n",
    "import pandas as pd\n",
    "\n",
    "def extract(page):\n",
    "    headers = {'User-Agent': 'Mozilla/5.0 (Windows NT 10.0; Win64; x64) AppleWebKit/537.36 (KHTML, like Gecko) Chrome/92.0.4515.159 Safari/537.36'}\n",
    "    url = f'https://www.glassdoor.ca/Salary/Critical-Control-Salaries-E23461_P{i}.htm'\n",
    "    r = requests.get(url, headers=headers)\n",
    "    content = r.content\n",
    "    soup = BeautifulSoup(content, 'html.parser')\n",
    "    return soup\n",
    "def transform(soup):\n",
    "    divs = soup.find_all('div', attrs={'data-test':'salary-list-items'})\n",
    "    for item in divs:\n",
    "        title = item.find('strong', attrs={'class': 'css-1vbfm1o css-198zvfl'}).text\n",
    "        salary = item.find('span', attrs={'class': 'css-1flyc9m mt-xxsm p-0 mb-0'})\n",
    "        \n",
    "        review = {\n",
    "            'Title':title,\n",
    "            'Salary': salary\n",
    "        }\n",
    "        reviewlist.append(review)\n",
    "    return\n",
    "\n",
    "reviewlist = []\n",
    "\n",
    "for i in range(0,10,1):\n",
    "    print(f'Getting page, {i}')\n",
    "    c = extract(0)\n",
    "    transform(c)\n",
    "\n",
    "df = pd.DataFrame(reviewlist)\n",
    "\n",
    "print(df.head())\n",
    "df.to_csv('review-cct-glassdoor-salary.csv', index = False)"
   ]
  }
 ],
 "metadata": {
  "kernelspec": {
   "display_name": "Python 3",
   "language": "python",
   "name": "python3"
  },
  "language_info": {
   "codemirror_mode": {
    "name": "ipython",
    "version": 3
   },
   "file_extension": ".py",
   "mimetype": "text/x-python",
   "name": "python",
   "nbconvert_exporter": "python",
   "pygments_lexer": "ipython3",
   "version": "3.8.8"
  }
 },
 "nbformat": 4,
 "nbformat_minor": 5
}
