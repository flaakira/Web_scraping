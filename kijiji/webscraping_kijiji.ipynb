{
 "cells": [
  {
   "cell_type": "code",
   "execution_count": 7,
   "metadata": {},
   "outputs": [],
   "source": [
    "import requests\n",
    "from bs4 import BeautifulSoup\n",
    "import pandas as pd"
   ]
  },
  {
   "cell_type": "code",
   "execution_count": 8,
   "metadata": {},
   "outputs": [],
   "source": [
    "headers = {'User-Agent': 'Mozilla/5.0 (Windows NT 10.0; Win64; x64) AppleWebKit/537.36 (KHTML, like Gecko) Chrome/90.0.4430.72 Safari/537.36'}\n",
    "\n",
    "productlist = []"
   ]
  },
  {
   "cell_type": "code",
   "execution_count": 9,
   "metadata": {},
   "outputs": [],
   "source": [
    "def getProduct(page):\n",
    "    url = f'https://www.kijiji.ca/b-cell-phone/calgary/cell-phone/page-{page}/k0c760l1700199?rb=true'\n",
    "    r = requests.get(url, headers=headers)\n",
    "    soup = BeautifulSoup(r.text, 'html.parser')\n",
    "    products = soup.find_all('div', {'class': 'info'})\n",
    "    for item in products:\n",
    "        product = {\n",
    "        'product': item.find('div', {'class': 'title'}).getText(strip=True),\n",
    "        'price': item.find('div', {'class': 'price'}).getText(strip=True),\n",
    "        'description': item.find('div', {'class': 'description'}).getText(strip=True),\n",
    "        }\n",
    "        productlist.append(product)\n",
    "    return"
   ]
  },
  {
   "cell_type": "code",
   "execution_count": 10,
   "metadata": {},
   "outputs": [],
   "source": [
    "for x in range(1,3):\n",
    "    getProduct(x)"
   ]
  },
  {
   "cell_type": "code",
   "execution_count": 11,
   "metadata": {},
   "outputs": [
    {
     "name": "stdout",
     "output_type": "stream",
     "text": [
      "                                              product    price  \\\n",
      "0   Iphone 6 6S 7 & 8 128,64,16GB unlocked new con...  $150.00   \n",
      "1   S20 Ultra S20+ S20 S10+ S10 S9 Unlocked New Co...  $370.00   \n",
      "2   Iphone 6 6S 7 & 8 128,64,16GB unlocked new con...  $150.00   \n",
      "3   Samsung Galaxy Note 3,4,5 8 9 Unlocked New Con...  $200.00   \n",
      "4                          Samsung Galaxy S8 For Sale  $260.00   \n",
      "..                                                ...      ...   \n",
      "85                                     iPhone X  64gb  $400.00   \n",
      "86            iPhone XS max 64 Gb rose gold unblocked  $380.00   \n",
      "87  5G Motorola Edge + 256 GB Memory 12 GB Ram Unl...  $850.00   \n",
      "88                                   128gb IPhone 199  $199.00   \n",
      "89                                Brand new iPhone 11  $650.00   \n",
      "\n",
      "                                          description  \n",
      "0   CELLULAR SAVINGS (403) 966-7805 Same Day mutua...  \n",
      "1   BIGGEST INVENTORY IN THE CITY! LOWEST PRICE IN...  \n",
      "2   CELLULAR SAVINGS (403) 966-7805 SELLING THE FO...  \n",
      "3   CELLULAR SAVINGS (403) 966-7805 SELLING THE FO...  \n",
      "4   Samsung S8 unlocked on Virgin mobile...64gb wi...  \n",
      "..                                                ...  \n",
      "85  Mint condition .. price negotiable Comes to bo...  \n",
      "86  Selling my iPhone XS max 64 Gb rose gold unloc...  \n",
      "87  Selling my 5G Motorola Edge + 256 GB Memory 12...  \n",
      "88  Mint condition Apple iPhone 7 128GB smartphone...  \n",
      "89  Brand new Brand new iPhone 11. Posted in phone...  \n",
      "\n",
      "[90 rows x 3 columns]\n"
     ]
    }
   ],
   "source": [
    "df = pd.DataFrame(productlist)\n",
    "print(df)"
   ]
  },
  {
   "cell_type": "code",
   "execution_count": 12,
   "metadata": {},
   "outputs": [],
   "source": [
    "df.to_csv('kijiji.csv', index=False, header=False)"
   ]
  },
  {
   "cell_type": "code",
   "execution_count": null,
   "metadata": {},
   "outputs": [],
   "source": []
  }
 ],
 "metadata": {
  "kernelspec": {
   "display_name": "Python 3",
   "language": "python",
   "name": "python3"
  },
  "language_info": {
   "codemirror_mode": {
    "name": "ipython",
    "version": 3
   },
   "file_extension": ".py",
   "mimetype": "text/x-python",
   "name": "python",
   "nbconvert_exporter": "python",
   "pygments_lexer": "ipython3",
   "version": "3.8.5"
  }
 },
 "nbformat": 4,
 "nbformat_minor": 4
}
